{
  "nbformat": 4,
  "nbformat_minor": 0,
  "metadata": {
    "colab": {
      "provenance": [],
      "authorship_tag": "ABX9TyPBUZEbDb8UqA02gWApeAT/",
      "include_colab_link": true
    },
    "kernelspec": {
      "name": "python3",
      "display_name": "Python 3"
    },
    "language_info": {
      "name": "python"
    }
  },
  "cells": [
    {
      "cell_type": "markdown",
      "metadata": {
        "id": "view-in-github",
        "colab_type": "text"
      },
      "source": [
        "<a href=\"https://colab.research.google.com/github/c-huii/DeepLearningZeroToAll/blob/master/%ED%8C%8C%EC%9D%B4%EC%8D%AC%EB%8D%B0%EC%9D%B4%ED%84%B0%EB%B6%84%EC%84%9D_%EB%B6%84%EC%84%9D%EC%A0%9C%EC%95%88%EC%84%9C.ipynb\" target=\"_parent\"><img src=\"https://colab.research.google.com/assets/colab-badge.svg\" alt=\"Open In Colab\"/></a>"
      ]
    },
    {
      "cell_type": "markdown",
      "source": [
        "파이썬데이터분석 이시윤, 장은서, 박찬희"
      ],
      "metadata": {
        "id": "hMOSZQgU5ZNr"
      }
    },
    {
      "cell_type": "markdown",
      "source": [
        "### 1. 개요"
      ],
      "metadata": {
        "id": "XjT7Nu5w5QAq"
      }
    },
    {
      "cell_type": "markdown",
      "source": [
        "공모전 이름: 환경데이터활용 및 분석 공모전(https://www.ecothon.kr/)\n",
        "\n",
        "문제 설명: 아래 4개 미션 수행을 위한 데이터 분석 과제를 수행한다.\n",
        "1. 건강한 생활환경-환경보건 서비스, 화학물질 관리 개선\n",
        "2. 기후위기에 강한 물 환경과 자연생태계 조성-안전한 스마트 물 관리, 물 서비스 품질 제고, 환경시설 현대화, 생물다양성 보전\n",
        "3. 미세먼지 걱정없는 푸른 하늘-초미세먼지 국내 감축, 고농도 미세먼지 대응, 초미세먼지 국외 유입 저감, 실내 공기질 관리 강화\n",
        "4. 재활용을 통한 순환경제 완성-발생량 저감, 회수·선별 고도화, 고부가가치 재활용, 바이오가스 확대\n",
        "\n",
        "선정 문제: 3. 미세먼지 걱정없는 푸른 하늘-초미세먼지 국내 감축, 고농도 미세먼지 대응, 초미세먼지 국외 유입 저감, 실내 공기질 관리 강화"
      ],
      "metadata": {
        "id": "0kRAuWX157G8"
      }
    },
    {
      "cell_type": "markdown",
      "source": [
        "프로젝트 명:  균형있는 산림 개발을 위한 수종 예측모델 개발\n",
        "\n",
        "분석의 목적:\n",
        "산림은 인류 생존의 근본이라고도 불리며 수질과 물의 순환을 조절하고 이산화탄소를 흡수한다. 특히, 기후변화 측면에서 산림은 지구온난화의 가속화를 저지할 친환경 이산화탄소 흡수원으로 주목받고 있다.\n",
        "이러한 산림은 수종에 따라 이산화탄소를 흡수하는 양이 다르기 때문에 이산화탄소 감축 효과 극대화를 위해서는 수종을 적절히 분배하는 것이 중요하다. 본 과제의 수종 예측을 통해 특정 산림의 수종 분포를 파악함으로써 효율적인 산림 관리를 지원하고자 한다."
      ],
      "metadata": {
        "id": "TPXe3ue25XIu"
      }
    },
    {
      "cell_type": "markdown",
      "source": [
        "### 2. 데이터 수집"
      ],
      "metadata": {
        "id": "QhC88RL96Qvw"
      }
    },
    {
      "cell_type": "markdown",
      "source": [
        "데이터 출처: AI hub 산림수종 이미지(수도권) link -> (https://www.aihub.or.kr/aihubdata/data/view.do?currMenu=&topMenu=&aihubDataSe=data&dataSetSn=136)\n",
        "\n",
        "데이터 소개: 수도권 지역 환경 변화 탐지 AI 기술 개발을 위한 산림수종(소나무, 낙엽송, 기타 침엽수, 활엽수) 항공 및 모사 이미지\n",
        "\n",
        "데이터 수집방법: Ai hub의 데이터로 수집\n",
        "\n",
        "데이터 구조 및 특성: 항공사진 60,392장(Fine Annotation 22,807장, Coarse Annotation 37,585장), 모사영상 500장(Fine Annotation 170장, Coarse Annotation 330장)\n",
        "1. dataset1 <수도권 산림 수종 이미지>\n",
        "소나무, 낙엽송, 침엽수, 활엽수 4종의 항공사진 및 침엽수, 활엽수 2종의 모사영상으로 구성되어있다.\n",
        "어노테이션 코드인 ANN_CD 컬럼과 어노테이션 명칭인 ANN_NM 컬럼이 있다.\n",
        "<산림수종 데이터 어노테이션>\n",
        "110: 소나무\n",
        "120: 낙엽송\n",
        "130: 기타침엽수\n",
        "140: 활엽수\n",
        "150: 침엽수\n",
        "0: 판독불가\n",
        "190: 비산림\n",
        "\n",
        "2. dataset2 <산림청 국립산림과학원_청정넷>\n",
        "전국에 있는 주요 산림 지역에 대해 온도, 습도, 기압, 풍향, 풍속, 미세먼지 등을 관측한 데이터이다. 산림의 미세먼지 농도를 실시간으로 측정 및 분석하여 정보를 제공해주기 때문에 24년 1월부터 3월까지의 비교적 최근 데이터를 활용하였다.\n",
        "단위는 온도(℃), 습도(%), 풍향(degree), 풍속(㎧), 기압(hPa), 미세먼지 농도(㎍/㎥)를 사용하였고 모두 수치형 데이터로 구성되어있다.\n",
        "\n",
        "목적: 산림수종 이미지를 활용한 모델을 바탕으로 산림의 개선이 필요한 미세먼지농도가 높은 지역을 파악하고자 한다."
      ],
      "metadata": {
        "id": "c1mosE2R6Yyv"
      }
    }
  ]
}